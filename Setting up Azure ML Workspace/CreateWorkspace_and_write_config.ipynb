{
 "cells": [
  {
   "cell_type": "code",
   "execution_count": 1,
   "id": "38be654e",
   "metadata": {},
   "outputs": [],
   "source": [
    "# Import Workspace class \n",
    "from azureml.core import Workspace"
   ]
  },
  {
   "cell_type": "code",
   "execution_count": 2,
   "id": "bd2ea4aa",
   "metadata": {},
   "outputs": [
    {
     "name": "stdout",
     "output_type": "stream",
     "text": [
      "Performing interactive authentication. Please follow the instructions on the terminal.\n"
     ]
    },
    {
     "name": "stderr",
     "output_type": "stream",
     "text": [
      "Note, we have launched a browser for you to login. For old experience with device code, use \"az login --use-device-code\"\n"
     ]
    },
    {
     "name": "stdout",
     "output_type": "stream",
     "text": [
      "You have logged in. Now let us find all the subscriptions to which you have access...\n",
      "Interactive authentication successfully completed.\n"
     ]
    },
    {
     "name": "stderr",
     "output_type": "stream",
     "text": [
      "UserWarning: The resource group doesn't exist or was not provided. AzureML SDK is creating a resource group=azuremlsdkrg01 in location=westus using subscription=157e585c-9e13-46a9-81d1-f32c64e12a58.\n"
     ]
    },
    {
     "name": "stdout",
     "output_type": "stream",
     "text": [
      "Deploying AppInsights with name azuremlsinsights9777332a.\n",
      "Deployed AppInsights with name azuremlsinsights9777332a. Took 11.6 seconds.\n",
      "Deploying KeyVault with name azuremlskeyvaultcc8e3cf9.\n",
      "Deploying StorageAccount with name azuremlsstorage6c2ef8787.\n",
      "Deployed KeyVault with name azuremlskeyvaultcc8e3cf9. Took 26.43 seconds.\n",
      "Deployed StorageAccount with name azuremlsstorage6c2ef8787. Took 33.61 seconds.\n",
      "Deploying Workspace with name azureml-sdk-ws01.\n",
      "Deployed Workspace with name azureml-sdk-ws01. Took 46.78 seconds.\n"
     ]
    }
   ],
   "source": [
    "# Create the workspace\n",
    "ws = Workspace.create(name='azureml-sdk-ws01',subscription_id='*********-9e13-46a9-81d1-**********',\n",
    "                 resource_group='azuremlsdkrg01',create_resource_group=True,location='westus')"
   ]
  },
  {
   "cell_type": "code",
   "execution_count": 5,
   "id": "486f826b",
   "metadata": {},
   "outputs": [],
   "source": [
    "# Write the config.json file to local directory\n",
    "ws.write_config(path='C:\\\\Users\\\\Sivasai.M\\\\Music\\\\AZURE ML',file_name='config')"
   ]
  },
  {
   "cell_type": "code",
   "execution_count": null,
   "id": "5aeba365",
   "metadata": {},
   "outputs": [],
   "source": []
  }
 ],
 "metadata": {
  "kernelspec": {
   "display_name": "Python 3 (ipykernel)",
   "language": "python",
   "name": "python3"
  },
  "language_info": {
   "codemirror_mode": {
    "name": "ipython",
    "version": 3
   },
   "file_extension": ".py",
   "mimetype": "text/x-python",
   "name": "python",
   "nbconvert_exporter": "python",
   "pygments_lexer": "ipython3",
   "version": "3.9.9"
  }
 },
 "nbformat": 4,
 "nbformat_minor": 5
}
